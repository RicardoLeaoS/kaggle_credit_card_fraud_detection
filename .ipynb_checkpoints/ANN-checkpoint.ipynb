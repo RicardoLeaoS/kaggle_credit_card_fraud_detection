{
 "cells": [
  {
   "cell_type": "code",
   "execution_count": 1,
   "metadata": {},
   "outputs": [],
   "source": [
    "# https://dmmajithia.medium.com/tensorflow-and-mac-os-big-sur-620c7a09e8ea\n",
    "# https://queirozf.com/entries/jupyter-kernels-how-to-add-change-remove"
   ]
  },
  {
   "cell_type": "code",
   "execution_count": 2,
   "metadata": {},
   "outputs": [],
   "source": [
    "# https://keras.io/examples/structured_data/imbalanced_classification/"
   ]
  },
  {
   "cell_type": "code",
   "execution_count": 3,
   "metadata": {},
   "outputs": [],
   "source": [
    "import pandas as pd\n",
    "import seaborn as sns\n",
    "sns.set_style(\"darkgrid\")\n",
    "import numpy as np\n",
    "import matplotlib.pyplot as plt\n",
    "\n",
    "from yellowbrick.features import RFECV"
   ]
  },
  {
   "cell_type": "code",
   "execution_count": 4,
   "metadata": {
    "scrolled": false
   },
   "outputs": [],
   "source": [
    "from sklearn.model_selection import (train_test_split)\n",
    "from sklearn import (preprocessing)\n",
    "from sklearn.metrics import (average_precision_score, confusion_matrix)\n",
    "from sklearn.decomposition import PCA\n",
    "\n",
    "from sklearn.ensemble import RandomForestClassifier\n",
    "from sklearn.feature_selection import RFE, mutual_info_classif"
   ]
  },
  {
   "cell_type": "code",
   "execution_count": 5,
   "metadata": {},
   "outputs": [],
   "source": [
    "from tensorflow import keras as kr"
   ]
  },
  {
   "cell_type": "code",
   "execution_count": 6,
   "metadata": {
    "scrolled": true
   },
   "outputs": [],
   "source": [
    "from tensorflow.keras.models import Sequential\n",
    "from tensorflow.keras.layers import (Dense, Dropout)\n",
    "from tensorflow.keras.metrics import (AUC, FalseNegatives, FalsePositives, TrueNegatives, TruePositives, Precision, Recall)"
   ]
  },
  {
   "cell_type": "code",
   "execution_count": 7,
   "metadata": {},
   "outputs": [],
   "source": [
    "data = pd.read_csv(\"creditcard.csv\")"
   ]
  },
  {
   "cell_type": "code",
   "execution_count": 8,
   "metadata": {},
   "outputs": [],
   "source": [
    "data.drop_duplicates(inplace=True)"
   ]
  },
  {
   "cell_type": "code",
   "execution_count": 65,
   "metadata": {},
   "outputs": [],
   "source": [
    "X = data.iloc[:,:-1]\n",
    "y = data.iloc[:,-1]"
   ]
  },
  {
   "cell_type": "markdown",
   "metadata": {},
   "source": [
    "## Feature Selection"
   ]
  },
  {
   "cell_type": "code",
   "execution_count": 66,
   "metadata": {},
   "outputs": [],
   "source": [
    "X.drop(columns=[\"Amount\", \"Time\"], inplace=True)"
   ]
  },
  {
   "cell_type": "code",
   "execution_count": 11,
   "metadata": {},
   "outputs": [],
   "source": [
    "mic = mutual_info_classif(X, y)"
   ]
  },
  {
   "cell_type": "code",
   "execution_count": 12,
   "metadata": {},
   "outputs": [
    {
     "data": {
      "image/png": "[encoded data removed]",
      "text/plain": [
       "<Figure size 720x576 with 1 Axes>"
      ]
     },
     "metadata": {},
     "output_type": "display_data"
    }
   ],
   "source": [
    "fig,  ax = plt.subplots(figsize=(10,8))\n",
    "\n",
    "(pd.DataFrame({\"feature\": X.columns, \"vmip\": mic})).set_index(\"feature\").plot.barh(ax=ax)\n",
    "\n",
    "fig.savefig(\"mplr.png\")"
   ]
  },
  {
   "cell_type": "code",
   "execution_count": 67,
   "metadata": {},
   "outputs": [],
   "source": [
    "important_columns =  X.columns[mic >= 0.005]"
   ]
  },
  {
   "cell_type": "code",
   "execution_count": 68,
   "metadata": {
    "scrolled": true
   },
   "outputs": [],
   "source": [
    "X = X.loc[:, important_columns]"
   ]
  },
  {
   "cell_type": "markdown",
   "metadata": {},
   "source": [
    "# splitting"
   ]
  },
  {
   "cell_type": "code",
   "execution_count": 69,
   "metadata": {},
   "outputs": [],
   "source": [
    "X_train, X_test, y_train, y_test = train_test_split(X, y, stratify=y, shuffle=True, test_size=0.15)"
   ]
  },
  {
   "cell_type": "code",
   "execution_count": 70,
   "metadata": {},
   "outputs": [],
   "source": [
    "X_train, X_val, y_train, y_val = train_test_split(X_train, y_train, stratify=y_train, shuffle=True, test_size=0.20)"
   ]
  },
  {
   "cell_type": "code",
   "execution_count": 71,
   "metadata": {
    "scrolled": true
   },
   "outputs": [
    {
     "data": {
      "text/plain": [
       "0.6799976033215144"
      ]
     },
     "execution_count": 71,
     "metadata": {},
     "output_type": "execute_result"
    }
   ],
   "source": [
    "len(X_train)/len(X)"
   ]
  },
  {
   "cell_type": "code",
   "execution_count": 72,
   "metadata": {},
   "outputs": [
    {
     "data": {
      "text/plain": [
       "0.15000035245271848"
      ]
     },
     "execution_count": 72,
     "metadata": {},
     "output_type": "execute_result"
    }
   ],
   "source": [
    "len(X_test)/len(X)"
   ]
  },
  {
   "cell_type": "code",
   "execution_count": 73,
   "metadata": {},
   "outputs": [
    {
     "data": {
      "text/plain": [
       "0.17000204422576712"
      ]
     },
     "execution_count": 73,
     "metadata": {},
     "output_type": "execute_result"
    }
   ],
   "source": [
    "len(X_val)/len(X)"
   ]
  },
  {
   "cell_type": "code",
   "execution_count": 74,
   "metadata": {},
   "outputs": [
    {
     "data": {
      "text/plain": [
       "True"
      ]
     },
     "execution_count": 74,
     "metadata": {},
     "output_type": "execute_result"
    }
   ],
   "source": [
    "len(X_train) + len(X_val) + len(X_test) == len(X)"
   ]
  },
  {
   "cell_type": "code",
   "execution_count": 75,
   "metadata": {},
   "outputs": [],
   "source": [
    "rf = RandomForestClassifier(n_estimators=100)\n",
    "\n",
    "#rfe = RFE(rf, )\n",
    "#rfe.fit(X_train, y_train)\n",
    "\n",
    "#X.columns[rf.support_]"
   ]
  },
  {
   "cell_type": "markdown",
   "metadata": {},
   "source": [
    "## standardizing data"
   ]
  },
  {
   "cell_type": "code",
   "execution_count": 76,
   "metadata": {},
   "outputs": [],
   "source": [
    "std = preprocessing.StandardScaler()"
   ]
  },
  {
   "cell_type": "code",
   "execution_count": 77,
   "metadata": {},
   "outputs": [],
   "source": [
    "X_train = std.fit_transform(X_train)"
   ]
  },
  {
   "cell_type": "code",
   "execution_count": 78,
   "metadata": {},
   "outputs": [],
   "source": [
    "X_val = std.transform(X_val)"
   ]
  },
  {
   "cell_type": "code",
   "execution_count": 79,
   "metadata": {},
   "outputs": [],
   "source": [
    "X_test = std.transform(X_test)"
   ]
  },
  {
   "cell_type": "markdown",
   "metadata": {},
   "source": [
    "## model"
   ]
  },
  {
   "cell_type": "code",
   "execution_count": 80,
   "metadata": {},
   "outputs": [
    {
     "data": {
      "text/plain": [
       "(283726, 6)"
      ]
     },
     "execution_count": 80,
     "metadata": {},
     "output_type": "execute_result"
    }
   ],
   "source": [
    "np.shape(X)"
   ]
  },
  {
   "cell_type": "code",
   "execution_count": 81,
   "metadata": {
    "scrolled": true
   },
   "outputs": [],
   "source": [
    "kr.backend.clear_session()"
   ]
  },
  {
   "cell_type": "code",
   "execution_count": 82,
   "metadata": {},
   "outputs": [],
   "source": [
    "metrics = [\n",
    "    AUC(curve=\"PR\", thresholds=[0.5, 0.6, 0.7, 0.8]),\n",
    "    FalseNegatives(name=\"fn\"), \n",
    "    FalsePositives(name=\"fp\"), \n",
    "    TrueNegatives(name=\"tn\"),\n",
    "    TruePositives(name=\"tp\"),\n",
    "    Precision(name=\"precision\"),\n",
    "    Recall(name=\"recall\")]\n",
    "\n",
    "\n",
    "class_wight = {0: 1 - np.mean(y_test == 0.0), 1 : 1 - np.mean(y_test == 1.0)}"
   ]
  },
  {
   "cell_type": "code",
   "execution_count": 83,
   "metadata": {},
   "outputs": [],
   "source": [
    "nn = Sequential()"
   ]
  },
  {
   "cell_type": "code",
   "execution_count": 84,
   "metadata": {},
   "outputs": [],
   "source": [
    "nn.add(Dense(len(X.columns), input_dim = len(X.columns), activation=\"relu\"))\n",
    "nn.add(Dense(300, activation=\"relu\"))\n",
    "#nn.add(Dropout(0.3))\n",
    "nn.add(Dense(500, activation=\"relu\"))\n",
    "nn.add(Dropout(0.15))\n",
    "nn.add(Dense(250, activation=\"relu\"))\n",
    "nn.add(Dense(1, activation=\"sigmoid\"))\n",
    "nn.compile(loss = \"binary_crossentropy\", optimizer=\"adam\", metrics = metrics)"
   ]
  },
  {
   "cell_type": "code",
   "execution_count": 85,
   "metadata": {},
   "outputs": [
    {
     "name": "stdout",
     "output_type": "stream",
     "text": [
      "Model: \"sequential\"\n",
      "_________________________________________________________________\n",
      "Layer (type)                 Output Shape              Param #   \n",
      "=================================================================\n",
      "dense (Dense)                (None, 6)                 42        \n",
      "_________________________________________________________________\n",
      "dense_1 (Dense)              (None, 300)               2100      \n",
      "_________________________________________________________________\n",
      "dense_2 (Dense)              (None, 500)               150500    \n",
      "_________________________________________________________________\n",
      "dropout (Dropout)            (None, 500)               0         \n",
      "_________________________________________________________________\n",
      "dense_3 (Dense)              (None, 250)               125250    \n",
      "_________________________________________________________________\n",
      "dense_4 (Dense)              (None, 1)                 251       \n",
      "=================================================================\n",
      "Total params: 278,143\n",
      "Trainable params: 278,143\n",
      "Non-trainable params: 0\n",
      "_________________________________________________________________\n",
      "None\n"
     ]
    }
   ],
   "source": [
    "print(nn.summary())"
   ]
  },
  {
   "cell_type": "code",
   "execution_count": 86,
   "metadata": {
    "scrolled": false
   },
   "outputs": [
    {
     "name": "stdout",
     "output_type": "stream",
     "text": [
      "Epoch 1/10\n",
      "65/65 [==============================] - 13s 150ms/step - loss: 0.2233 - auc: 0.0061 - fn: 163.5000 - fp: 1439.9394 - tn: 98784.7879 - tp: 3.6818 - precision: 0.0025 - recall: 0.0120 - val_loss: 0.0064 - val_auc: 0.5309 - val_fn: 27.0000 - val_fp: 9.0000 - val_tn: 48145.0000 - val_tp: 53.0000 - val_precision: 0.8548 - val_recall: 0.6625\n",
      "Epoch 2/10\n",
      "65/65 [==============================] - 8s 126ms/step - loss: 0.0051 - auc: 0.5858 - fn: 52.2121 - fp: 22.5758 - tn: 100202.2121 - tp: 114.9091 - precision: 0.8485 - recall: 0.6963 - val_loss: 0.0049 - val_auc: 0.6386 - val_fn: 18.0000 - val_fp: 12.0000 - val_tn: 48142.0000 - val_tp: 62.0000 - val_precision: 0.8378 - val_recall: 0.7750\n",
      "Epoch 3/10\n",
      "65/65 [==============================] - 6s 97ms/step - loss: 0.0040 - auc: 0.6365 - fn: 45.4091 - fp: 27.0606 - tn: 100194.3030 - tp: 125.1364 - precision: 0.8028 - recall: 0.7415 - val_loss: 0.0044 - val_auc: 0.5883 - val_fn: 22.0000 - val_fp: 10.0000 - val_tn: 48144.0000 - val_tp: 58.0000 - val_precision: 0.8529 - val_recall: 0.7250\n",
      "Epoch 4/10\n",
      "65/65 [==============================] - 7s 113ms/step - loss: 0.0038 - auc: 0.5990 - fn: 44.8939 - fp: 29.7727 - tn: 100194.1818 - tp: 123.0606 - precision: 0.7909 - recall: 0.7338 - val_loss: 0.0042 - val_auc: 0.6020 - val_fn: 22.0000 - val_fp: 9.0000 - val_tn: 48145.0000 - val_tp: 58.0000 - val_precision: 0.8657 - val_recall: 0.7250\n",
      "Epoch 5/10\n",
      "65/65 [==============================] - 7s 102ms/step - loss: 0.0040 - auc: 0.6488 - fn: 44.1364 - fp: 24.1515 - tn: 100194.5000 - tp: 129.1212 - precision: 0.8562 - recall: 0.7222 - val_loss: 0.0041 - val_auc: 0.6814 - val_fn: 18.0000 - val_fp: 10.0000 - val_tn: 48144.0000 - val_tp: 62.0000 - val_precision: 0.8611 - val_recall: 0.7750\n",
      "Epoch 6/10\n",
      "65/65 [==============================] - 7s 101ms/step - loss: 0.0032 - auc: 0.6914 - fn: 38.1667 - fp: 26.6667 - tn: 100199.9848 - tp: 127.0909 - precision: 0.8297 - recall: 0.7866 - val_loss: 0.0039 - val_auc: 0.6767 - val_fn: 18.0000 - val_fp: 11.0000 - val_tn: 48143.0000 - val_tp: 62.0000 - val_precision: 0.8493 - val_recall: 0.7750\n",
      "Epoch 7/10\n",
      "65/65 [==============================] - 7s 104ms/step - loss: 0.0038 - auc: 0.6522 - fn: 41.4848 - fp: 26.6061 - tn: 100196.8182 - tp: 127.0000 - precision: 0.8168 - recall: 0.7408 - val_loss: 0.0039 - val_auc: 0.7099 - val_fn: 18.0000 - val_fp: 10.0000 - val_tn: 48144.0000 - val_tp: 62.0000 - val_precision: 0.8611 - val_recall: 0.7750\n",
      "Epoch 8/10\n",
      "65/65 [==============================] - 7s 103ms/step - loss: 0.0035 - auc: 0.6797 - fn: 39.8939 - fp: 24.2121 - tn: 100201.3939 - tp: 126.4091 - precision: 0.8263 - recall: 0.7508 - val_loss: 0.0038 - val_auc: 0.7067 - val_fn: 18.0000 - val_fp: 10.0000 - val_tn: 48144.0000 - val_tp: 62.0000 - val_precision: 0.8611 - val_recall: 0.7750\n",
      "Epoch 9/10\n",
      "65/65 [==============================] - 7s 107ms/step - loss: 0.0035 - auc: 0.6861 - fn: 40.7424 - fp: 25.6212 - tn: 100188.4394 - tp: 137.1061 - precision: 0.8423 - recall: 0.7766 - val_loss: 0.0040 - val_auc: 0.7061 - val_fn: 18.0000 - val_fp: 12.0000 - val_tn: 48142.0000 - val_tp: 62.0000 - val_precision: 0.8378 - val_recall: 0.7750\n",
      "Epoch 10/10\n",
      "65/65 [==============================] - 8s 120ms/step - loss: 0.0033 - auc: 0.7241 - fn: 37.3788 - fp: 26.7273 - tn: 100200.1364 - tp: 127.6667 - precision: 0.8218 - recall: 0.7859 - val_loss: 0.0037 - val_auc: 0.7104 - val_fn: 18.0000 - val_fp: 12.0000 - val_tn: 48142.0000 - val_tp: 62.0000 - val_precision: 0.8378 - val_recall: 0.7750\n"
     ]
    },
    {
     "data": {
      "text/plain": [
       "<tensorflow.python.keras.callbacks.History at 0x7fe614a26df0>"
      ]
     },
     "execution_count": 86,
     "metadata": {},
     "output_type": "execute_result"
    }
   ],
   "source": [
    "nn.fit(\n",
    "    X_train, \n",
    "    y_train, \n",
    "    epochs=10, \n",
    "    batch_size=3000, \n",
    "    validation_data=(X_val, y_val)\n",
    "    #, class_weight=class_wight\n",
    ")"
   ]
  },
  {
   "cell_type": "code",
   "execution_count": 87,
   "metadata": {
    "scrolled": true
   },
   "outputs": [
    {
     "name": "stdout",
     "output_type": "stream",
     "text": [
      "1330/1330 [==============================] - 4s 3ms/step - loss: 0.0025 - auc: 0.7953 - fn: 13.0000 - fp: 7.0000 - tn: 42481.0000 - tp: 58.0000 - precision: 0.8923 - recall: 0.8169\n"
     ]
    }
   ],
   "source": [
    "loss, auc, fn, fp, tn, tp, precision, recall = nn.evaluate(X_test, y_test)"
   ]
  },
  {
   "cell_type": "code",
   "execution_count": 88,
   "metadata": {},
   "outputs": [
    {
     "data": {
      "text/plain": [
       "0.7953194975852966"
      ]
     },
     "execution_count": 88,
     "metadata": {},
     "output_type": "execute_result"
    }
   ],
   "source": [
    "auc"
   ]
  },
  {
   "cell_type": "code",
   "execution_count": 89,
   "metadata": {},
   "outputs": [],
   "source": [
    "y_pred = nn.predict(X_test)"
   ]
  },
  {
   "cell_type": "code",
   "execution_count": 63,
   "metadata": {},
   "outputs": [
    {
     "data": {
      "text/plain": [
       "0.8114851696013692"
      ]
     },
     "execution_count": 63,
     "metadata": {},
     "output_type": "execute_result"
    }
   ],
   "source": [
    "average_precision_score(y_test, y_pred)"
   ]
  },
  {
   "cell_type": "code",
   "execution_count": 90,
   "metadata": {},
   "outputs": [
    {
     "data": {
      "image/png": "[encoded data removed]",
      "text/plain": [
       "<Figure size 504x504 with 2 Axes>"
      ]
     },
     "metadata": {},
     "output_type": "display_data"
    },
    {
     "data": {
      "text/plain": [
       "<Figure size 576x396 with 0 Axes>"
      ]
     },
     "metadata": {},
     "output_type": "display_data"
    }
   ],
   "source": [
    "cm = confusion_matrix(y_true=y_test, y_pred=pd.Series(y_pred[:,0]).apply(lambda x: 1 if x >= 0.5 else 0), normalize=\"true\")\n",
    "\n",
    "fig, ax = plt.subplots(figsize=(7,7))\n",
    "sns.set(font_scale=2.0) # Adjust to fit\n",
    "sns.heatmap(cm, annot=True, ax=ax, cmap=\"Blues\", fmt=\".2g\")  \n",
    "\n",
    "# Labels, title and ticks\n",
    "label_font = {'size':'18'}  # Adjust to fit\n",
    "ax.set_xlabel('Predicted labels', fontdict=label_font)\n",
    "ax.set_ylabel('Observed labels', fontdict=label_font)\n",
    "\n",
    "title_font = {'size':'21'}  # Adjust to fit\n",
    "ax.set_title('Confusion Matrix', fontdict=title_font)\n",
    "\n",
    "ax.tick_params(axis='both', which='major', labelsize=15)  # Adjust to fit\n",
    "ax.xaxis.set_ticklabels(['False', 'True']);\n",
    "ax.yaxis.set_ticklabels(['False', 'True']);\n",
    "plt.show()\n",
    "\n",
    "plt.tight_layout()\n",
    "\n",
    "fig.savefig(\"nn_confusion_matrix_005_test_std.png\")\n",
    "\n"
   ]
  },
  {
   "cell_type": "code",
   "execution_count": null,
   "metadata": {},
   "outputs": [],
   "source": []
  }
 ],
 "metadata": {
  "kernelspec": {
   "display_name": "tensorflow_venv",
   "language": "python",
   "name": "tensorflow_venv"
  },
  "language_info": {
   "codemirror_mode": {
    "name": "ipython",
    "version": 3
   },
   "file_extension": ".py",
   "mimetype": "text/x-python",
   "name": "python",
   "nbconvert_exporter": "python",
   "pygments_lexer": "ipython3",
   "version": "3.8.6"
  }
 },
 "nbformat": 4,
 "nbformat_minor": 4
}
